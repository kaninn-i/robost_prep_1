{
 "cells": [
  {
   "cell_type": "markdown",
   "id": "366473e1",
   "metadata": {},
   "source": [
    "Импорт библиотек"
   ]
  },
  {
   "cell_type": "code",
   "execution_count": 4,
   "id": "5571b4ef",
   "metadata": {},
   "outputs": [],
   "source": [
    "# предобученная модель Yolo для распознавания обьектов на картинке\n",
    "from ultralytics import YOLO\n",
    "# фреймворк для обучения на видеокарте\n",
    "import torch\n",
    "# библиотека для работы с массивами и мат. операциями\n",
    "import numpy as np\n"
   ]
  },
  {
   "cell_type": "code",
   "execution_count": 5,
   "id": "29055077",
   "metadata": {},
   "outputs": [
    {
     "name": "stdout",
     "output_type": "stream",
     "text": [
      "cpu\n"
     ]
    }
   ],
   "source": [
    "# определение устройства на котором будет обучаться модель (gpu/cpu)\n",
    "device = torch.device('cuda' if torch.cuda.is_available() else 'cpu')\n",
    "print(device)"
   ]
  },
  {
   "cell_type": "markdown",
   "id": "7e9e049e",
   "metadata": {},
   "source": [
    "Структура файла .yaml:\n",
    "```yaml\n",
    "# пути к основной папке данных и к папкам с тренировочными, тестовыми и валидационными данными\n",
    "path: C:\\Users\\Илья\\Documents\\GitHub\\robost_prep_1\\Module_4\n",
    "train: train/images\n",
    "val: valid/images\n",
    "test: test/images\n",
    "\n",
    "# параметры аугментации\n",
    "augment: True\n",
    "hsv_h: 0.015             # изменение оттенка\n",
    "hsv_s: 0.7               # изменение насыщенности\n",
    "hsv_v: 0.4               # изменение яркости\n",
    "\n",
    "degrees: 30              # поворот изображения\n",
    "translate: 0.1           # смещение изображения\n",
    "scale: 0.5               # масштабирование изображения\n",
    "shear: 0.2               # сдвиг изображения\n",
    "flipup: 0.1              \n",
    "fliplr: 0.1\n",
    "\n",
    "# оптимизация обучения\n",
    "cache: disk # кэширование данных на диск для ускорения обучения\n",
    "\n",
    "patience: 5 # количество эпох без улучшения, после которых обучение останавливается\n",
    "\n",
    "# количество и имена классов\n",
    "nc: 3\n",
    "names: ['45_mm', 'pyramid', 'cylinder']\n",
    "```"
   ]
  },
  {
   "cell_type": "markdown",
   "id": "eaf599ee",
   "metadata": {},
   "source": [
    "# Обучение модели"
   ]
  },
  {
   "cell_type": "code",
   "execution_count": 6,
   "id": "7b8bb8c5",
   "metadata": {},
   "outputs": [],
   "source": [
    "# инициализация модели Yolo v8 nano\n",
    "model = YOLO('yolov8n.pt')"
   ]
  },
  {
   "cell_type": "code",
   "execution_count": null,
   "id": "d7e87681",
   "metadata": {},
   "outputs": [],
   "source": [
    "results_test = model.train(\n",
    "  data = 'C:\\Users\\Илья\\Documents\\GitHub\\robost_prep_1\\Module_4\\data.yaml',   # путь в файлу yaml со всеми гиперпараметрами\n",
    "  epochs = 3,                   # количество эпох\n",
    "  imgsz = 640,                  # размер изображения\n",
    "  batch = -1,                   # количество батчей (-1 = определяется автоматически)\n",
    "  device = device,              # устройство для обучение         \n",
    "  cos_lr = True,                # косинусный планировщик кривой скорости обучения (динамический подбор скорости обучения)\n",
    "  lr0 = 0.01,                   # скорость обучения\n",
    "  name = 'objects_detection_v3' # имя папки с результатами\n",
    ")"
   ]
  },
  {
   "cell_type": "markdown",
   "id": "b411bb97",
   "metadata": {},
   "source": [
    "использование модели далее:\n",
    "```py\n",
    "ready_model = YOLO(r'C:\\Users\\Илья\\Documents\\GitHub\\robost_prep_1\\runs\\detect\\objects_detection_v1_trash\\weights\\best.pt')\n",
    "```"
   ]
  }
 ],
 "metadata": {
  "kernelspec": {
   "display_name": ".venv",
   "language": "python",
   "name": "python3"
  },
  "language_info": {
   "codemirror_mode": {
    "name": "ipython",
    "version": 3
   },
   "file_extension": ".py",
   "mimetype": "text/x-python",
   "name": "python",
   "nbconvert_exporter": "python",
   "pygments_lexer": "ipython3",
   "version": "3.10.11"
  }
 },
 "nbformat": 4,
 "nbformat_minor": 5
}
