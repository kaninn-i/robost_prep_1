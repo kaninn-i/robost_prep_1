{
 "cells": [
  {
   "cell_type": "markdown",
   "id": "366473e1",
   "metadata": {},
   "source": [
    "Импорт библиотек"
   ]
  },
  {
   "cell_type": "code",
   "execution_count": 1,
   "id": "5571b4ef",
   "metadata": {},
   "outputs": [],
   "source": [
    "# предобученная модель Yolo для распознавания обьектов на картинке\n",
    "from ultralytics import YOLO\n",
    "# фреймворк для обучения на видеокарте\n",
    "import torch\n",
    "# библиотека для работы с массивами и мат. операциями\n",
    "import numpy as np\n"
   ]
  },
  {
   "cell_type": "code",
   "execution_count": 2,
   "id": "29055077",
   "metadata": {},
   "outputs": [
    {
     "name": "stdout",
     "output_type": "stream",
     "text": [
      "cpu\n"
     ]
    }
   ],
   "source": [
    "# определение устройства на котором будет обучаться модель (gpu/cpu)\n",
    "device = torch.device('cuda' if torch.cuda.is_available() else 'cpu')\n",
    "print(device)"
   ]
  },
  {
   "cell_type": "markdown",
   "id": "7e9e049e",
   "metadata": {},
   "source": [
    "Структура файла .yaml:\n",
    "```yaml\n",
    "# пути к основной папке данных и к папкам с тренировочными, тестовыми и валидационными данными\n",
    "path: C:\\Users\\Илья\\Documents\\GitHub\\robost_prep_1\\Module_4\n",
    "train: train/images\n",
    "val: valid/images\n",
    "test: test/images\n",
    "\n",
    "# параметры аугментации\n",
    "augment: True\n",
    "hsv_h: 0.015             # изменение оттенка\n",
    "hsv_s: 0.7               # изменение насыщенности\n",
    "hsv_v: 0.4               # изменение яркости\n",
    "\n",
    "degrees: 30              # поворот изображения\n",
    "translate: 0.1           # смещение изображения\n",
    "scale: 0.5               # масштабирование изображения\n",
    "shear: 0.2               # сдвиг изображения\n",
    "flipup: 0.1              \n",
    "fliplr: 0.1\n",
    "\n",
    "# оптимизация обучения\n",
    "cache: disk # кэширование данных на диск для ускорения обучения\n",
    "\n",
    "patience: 5 # количество эпох без улучшения, после которых обучение останавливается\n",
    "\n",
    "# количество и имена классов\n",
    "nc: 3\n",
    "names: ['45_mm', 'pyramid', 'cylinder']\n",
    "```"
   ]
  },
  {
   "cell_type": "markdown",
   "id": "eaf599ee",
   "metadata": {},
   "source": [
    "# Обучение модели"
   ]
  },
  {
   "cell_type": "code",
   "execution_count": 3,
   "id": "7b8bb8c5",
   "metadata": {},
   "outputs": [],
   "source": [
    "# инициализация модели Yolo v8 nano\n",
    "model = YOLO('yolov8n.pt')"
   ]
  },
  {
   "cell_type": "code",
   "execution_count": 4,
   "id": "d7e87681",
   "metadata": {},
   "outputs": [
    {
     "name": "stdout",
     "output_type": "stream",
     "text": [
      "New https://pypi.org/project/ultralytics/8.3.113 available  Update with 'pip install -U ultralytics'\n",
      "\u001b[34m\u001b[1mengine\\trainer: \u001b[0mtask=detect, mode=train, model=yolov8n.pt, data=C:\\Users\\\\Documents\\GitHub\\robost_prep_1\\Module_4\\data.yaml, epochs=5, time=None, patience=100, batch=-1, imgsz=640, save=True, save_period=-1, cache=False, device=cpu, workers=8, project=None, name=new_df_objects_detection_v1_1ep2, exist_ok=False, pretrained=True, optimizer=auto, verbose=True, seed=0, deterministic=True, single_cls=False, rect=False, cos_lr=True, close_mosaic=10, resume=False, amp=True, fraction=1.0, profile=False, freeze=None, multi_scale=False, overlap_mask=True, mask_ratio=4, dropout=0.0, val=True, split=val, save_json=False, conf=None, iou=0.7, max_det=300, half=False, dnn=False, plots=True, source=None, vid_stride=1, stream_buffer=False, visualize=False, augment=False, agnostic_nms=False, classes=None, retina_masks=False, embed=None, show=False, save_frames=False, save_txt=False, save_conf=False, save_crop=False, show_labels=True, show_conf=True, show_boxes=True, line_width=None, format=torchscript, keras=False, optimize=False, int8=False, dynamic=False, simplify=True, opset=None, workspace=None, nms=False, lr0=0.01, lrf=0.01, momentum=0.937, weight_decay=0.0005, warmup_epochs=3.0, warmup_momentum=0.8, warmup_bias_lr=0.1, box=7.5, cls=0.5, dfl=1.5, pose=12.0, kobj=1.0, nbs=64, hsv_h=0.015, hsv_s=0.7, hsv_v=0.4, degrees=0.0, translate=0.1, scale=0.5, shear=0.0, perspective=0.0, flipud=0.0, fliplr=0.5, bgr=0.0, mosaic=1.0, mixup=0.0, copy_paste=0.0, copy_paste_mode=flip, auto_augment=randaugment, erasing=0.4, crop_fraction=1.0, cfg=None, tracker=botsort.yaml, save_dir=C:\\Users\\\\Documents\\GitHub\\robost_prep_1\\runs\\detect\\new_df_objects_detection_v1_1ep2\n",
      "Overriding model.yaml nc=80 with nc=5\n",
      "\n",
      "                   from  n    params  module                                       arguments                     \n",
      "  0                  -1  1       464  ultralytics.nn.modules.conv.Conv             [3, 16, 3, 2]                 \n",
      "  1                  -1  1      4672  ultralytics.nn.modules.conv.Conv             [16, 32, 3, 2]                \n",
      "  2                  -1  1      7360  ultralytics.nn.modules.block.C2f             [32, 32, 1, True]             \n",
      "  3                  -1  1     18560  ultralytics.nn.modules.conv.Conv             [32, 64, 3, 2]                \n",
      "  4                  -1  2     49664  ultralytics.nn.modules.block.C2f             [64, 64, 2, True]             \n",
      "  5                  -1  1     73984  ultralytics.nn.modules.conv.Conv             [64, 128, 3, 2]               \n",
      "  6                  -1  2    197632  ultralytics.nn.modules.block.C2f             [128, 128, 2, True]           \n",
      "  7                  -1  1    295424  ultralytics.nn.modules.conv.Conv             [128, 256, 3, 2]              \n",
      "  8                  -1  1    460288  ultralytics.nn.modules.block.C2f             [256, 256, 1, True]           \n",
      "  9                  -1  1    164608  ultralytics.nn.modules.block.SPPF            [256, 256, 5]                 \n",
      " 10                  -1  1         0  torch.nn.modules.upsampling.Upsample         [None, 2, 'nearest']          \n",
      " 11             [-1, 6]  1         0  ultralytics.nn.modules.conv.Concat           [1]                           \n",
      " 12                  -1  1    148224  ultralytics.nn.modules.block.C2f             [384, 128, 1]                 \n",
      " 13                  -1  1         0  torch.nn.modules.upsampling.Upsample         [None, 2, 'nearest']          \n",
      " 14             [-1, 4]  1         0  ultralytics.nn.modules.conv.Concat           [1]                           \n",
      " 15                  -1  1     37248  ultralytics.nn.modules.block.C2f             [192, 64, 1]                  \n",
      " 16                  -1  1     36992  ultralytics.nn.modules.conv.Conv             [64, 64, 3, 2]                \n",
      " 17            [-1, 12]  1         0  ultralytics.nn.modules.conv.Concat           [1]                           \n",
      " 18                  -1  1    123648  ultralytics.nn.modules.block.C2f             [192, 128, 1]                 \n",
      " 19                  -1  1    147712  ultralytics.nn.modules.conv.Conv             [128, 128, 3, 2]              \n",
      " 20             [-1, 9]  1         0  ultralytics.nn.modules.conv.Concat           [1]                           \n",
      " 21                  -1  1    493056  ultralytics.nn.modules.block.C2f             [384, 256, 1]                 \n",
      " 22        [15, 18, 21]  1    752287  ultralytics.nn.modules.head.Detect           [5, [64, 128, 256]]           \n",
      "Model summary: 129 layers, 3,011,823 parameters, 3,011,807 gradients, 8.2 GFLOPs\n",
      "\n",
      "Transferred 319/355 items from pretrained weights\n",
      "Freezing layer 'model.22.dfl.conv.weight'\n"
     ]
    },
    {
     "name": "stderr",
     "output_type": "stream",
     "text": [
      "\u001b[34m\u001b[1mtrain: \u001b[0mScanning C:\\Users\\Илья\\Documents\\GitHub\\robost_prep_1\\Module_4\\data\\train\\labels.cache... 329 images, 0 backgrounds, 0 corrupt: 100%|██████████| 329/329 [00:00<?, ?it/s]"
     ]
    },
    {
     "name": "stdout",
     "output_type": "stream",
     "text": [
      "\u001b[34m\u001b[1mtrain: \u001b[0mWARNING  C:\\Users\\\\Documents\\GitHub\\robost_prep_1\\Module_4\\data\\train\\images\\002.jpg: corrupt JPEG restored and saved\n",
      "\u001b[34m\u001b[1mtrain: \u001b[0mWARNING  C:\\Users\\\\Documents\\GitHub\\robost_prep_1\\Module_4\\data\\train\\images\\003.jpg: corrupt JPEG restored and saved\n",
      "\u001b[34m\u001b[1mtrain: \u001b[0mWARNING  C:\\Users\\\\Documents\\GitHub\\robost_prep_1\\Module_4\\data\\train\\images\\005.jpg: corrupt JPEG restored and saved\n",
      "\u001b[34m\u001b[1mtrain: \u001b[0mWARNING  C:\\Users\\\\Documents\\GitHub\\robost_prep_1\\Module_4\\data\\train\\images\\007.jpg: corrupt JPEG restored and saved\n",
      "\u001b[34m\u001b[1mtrain: \u001b[0mWARNING  C:\\Users\\\\Documents\\GitHub\\robost_prep_1\\Module_4\\data\\train\\images\\009.jpg: corrupt JPEG restored and saved\n",
      "\u001b[34m\u001b[1mtrain: \u001b[0mWARNING  C:\\Users\\\\Documents\\GitHub\\robost_prep_1\\Module_4\\data\\train\\images\\011.jpg: corrupt JPEG restored and saved\n",
      "\u001b[34m\u001b[1mtrain: \u001b[0mWARNING  C:\\Users\\\\Documents\\GitHub\\robost_prep_1\\Module_4\\data\\train\\images\\012.jpg: corrupt JPEG restored and saved\n",
      "\u001b[34m\u001b[1mtrain: \u001b[0mWARNING  C:\\Users\\\\Documents\\GitHub\\robost_prep_1\\Module_4\\data\\train\\images\\013.jpg: corrupt JPEG restored and saved\n",
      "\u001b[34m\u001b[1mtrain: \u001b[0mWARNING  C:\\Users\\\\Documents\\GitHub\\robost_prep_1\\Module_4\\data\\train\\images\\014.jpg: corrupt JPEG restored and saved\n",
      "\u001b[34m\u001b[1mtrain: \u001b[0mWARNING  C:\\Users\\\\Documents\\GitHub\\robost_prep_1\\Module_4\\data\\train\\images\\015.jpg: corrupt JPEG restored and saved\n",
      "\u001b[34m\u001b[1mtrain: \u001b[0mWARNING  C:\\Users\\\\Documents\\GitHub\\robost_prep_1\\Module_4\\data\\train\\images\\018.jpg: corrupt JPEG restored and saved\n",
      "\u001b[34m\u001b[1mtrain: \u001b[0mWARNING  C:\\Users\\\\Documents\\GitHub\\robost_prep_1\\Module_4\\data\\train\\images\\021.jpg: corrupt JPEG restored and saved\n",
      "\u001b[34m\u001b[1mtrain: \u001b[0mWARNING  C:\\Users\\\\Documents\\GitHub\\robost_prep_1\\Module_4\\data\\train\\images\\022.jpg: corrupt JPEG restored and saved\n",
      "\u001b[34m\u001b[1mtrain: \u001b[0mWARNING  C:\\Users\\\\Documents\\GitHub\\robost_prep_1\\Module_4\\data\\train\\images\\024.jpg: corrupt JPEG restored and saved\n",
      "\u001b[34m\u001b[1mtrain: \u001b[0mWARNING  C:\\Users\\\\Documents\\GitHub\\robost_prep_1\\Module_4\\data\\train\\images\\025.jpg: corrupt JPEG restored and saved\n",
      "\u001b[34m\u001b[1mtrain: \u001b[0mWARNING  C:\\Users\\\\Documents\\GitHub\\robost_prep_1\\Module_4\\data\\train\\images\\027.jpg: corrupt JPEG restored and saved\n",
      "\u001b[34m\u001b[1mtrain: \u001b[0mWARNING  C:\\Users\\\\Documents\\GitHub\\robost_prep_1\\Module_4\\data\\train\\images\\028.jpg: corrupt JPEG restored and saved\n",
      "\u001b[34m\u001b[1mtrain: \u001b[0mWARNING  C:\\Users\\\\Documents\\GitHub\\robost_prep_1\\Module_4\\data\\train\\images\\029.jpg: corrupt JPEG restored and saved\n",
      "\u001b[34m\u001b[1mtrain: \u001b[0mWARNING  C:\\Users\\\\Documents\\GitHub\\robost_prep_1\\Module_4\\data\\train\\images\\030.jpg: corrupt JPEG restored and saved\n",
      "\u001b[34m\u001b[1mtrain: \u001b[0mWARNING  C:\\Users\\\\Documents\\GitHub\\robost_prep_1\\Module_4\\data\\train\\images\\033.jpg: corrupt JPEG restored and saved\n",
      "\u001b[34m\u001b[1mtrain: \u001b[0mWARNING  C:\\Users\\\\Documents\\GitHub\\robost_prep_1\\Module_4\\data\\train\\images\\035.jpg: corrupt JPEG restored and saved\n",
      "\u001b[34m\u001b[1mtrain: \u001b[0mWARNING  C:\\Users\\\\Documents\\GitHub\\robost_prep_1\\Module_4\\data\\train\\images\\036.jpg: corrupt JPEG restored and saved\n",
      "\u001b[34m\u001b[1mtrain: \u001b[0mWARNING  C:\\Users\\\\Documents\\GitHub\\robost_prep_1\\Module_4\\data\\train\\images\\037.jpg: corrupt JPEG restored and saved\n",
      "\u001b[34m\u001b[1mtrain: \u001b[0mWARNING  C:\\Users\\\\Documents\\GitHub\\robost_prep_1\\Module_4\\data\\train\\images\\038.jpg: corrupt JPEG restored and saved\n",
      "\u001b[34m\u001b[1mtrain: \u001b[0mWARNING  C:\\Users\\\\Documents\\GitHub\\robost_prep_1\\Module_4\\data\\train\\images\\039.jpg: corrupt JPEG restored and saved\n",
      "\u001b[34m\u001b[1mtrain: \u001b[0mWARNING  C:\\Users\\\\Documents\\GitHub\\robost_prep_1\\Module_4\\data\\train\\images\\041.jpg: corrupt JPEG restored and saved\n",
      "\u001b[34m\u001b[1mtrain: \u001b[0mWARNING  C:\\Users\\\\Documents\\GitHub\\robost_prep_1\\Module_4\\data\\train\\images\\042.jpg: corrupt JPEG restored and saved\n",
      "\u001b[34m\u001b[1mtrain: \u001b[0mWARNING  C:\\Users\\\\Documents\\GitHub\\robost_prep_1\\Module_4\\data\\train\\images\\044.jpg: corrupt JPEG restored and saved\n",
      "\u001b[34m\u001b[1mtrain: \u001b[0mWARNING  C:\\Users\\\\Documents\\GitHub\\robost_prep_1\\Module_4\\data\\train\\images\\045.jpg: corrupt JPEG restored and saved\n",
      "\u001b[34m\u001b[1mtrain: \u001b[0mWARNING  C:\\Users\\\\Documents\\GitHub\\robost_prep_1\\Module_4\\data\\train\\images\\048.jpg: corrupt JPEG restored and saved\n",
      "\u001b[34m\u001b[1mtrain: \u001b[0mWARNING  C:\\Users\\\\Documents\\GitHub\\robost_prep_1\\Module_4\\data\\train\\images\\049.jpg: corrupt JPEG restored and saved\n",
      "\u001b[34m\u001b[1mtrain: \u001b[0mWARNING  C:\\Users\\\\Documents\\GitHub\\robost_prep_1\\Module_4\\data\\train\\images\\050.jpg: corrupt JPEG restored and saved\n",
      "\u001b[34m\u001b[1mtrain: \u001b[0mWARNING  C:\\Users\\\\Documents\\GitHub\\robost_prep_1\\Module_4\\data\\train\\images\\051.jpg: corrupt JPEG restored and saved\n",
      "\u001b[34m\u001b[1mtrain: \u001b[0mWARNING  C:\\Users\\\\Documents\\GitHub\\robost_prep_1\\Module_4\\data\\train\\images\\052.jpg: corrupt JPEG restored and saved\n",
      "\u001b[34m\u001b[1mtrain: \u001b[0mWARNING  C:\\Users\\\\Documents\\GitHub\\robost_prep_1\\Module_4\\data\\train\\images\\053.jpg: corrupt JPEG restored and saved\n",
      "\u001b[34m\u001b[1mtrain: \u001b[0mWARNING  C:\\Users\\\\Documents\\GitHub\\robost_prep_1\\Module_4\\data\\train\\images\\054.jpg: corrupt JPEG restored and saved\n",
      "\u001b[34m\u001b[1mtrain: \u001b[0mWARNING  C:\\Users\\\\Documents\\GitHub\\robost_prep_1\\Module_4\\data\\train\\images\\055.jpg: corrupt JPEG restored and saved\n",
      "\u001b[34m\u001b[1mtrain: \u001b[0mWARNING  C:\\Users\\\\Documents\\GitHub\\robost_prep_1\\Module_4\\data\\train\\images\\059.jpg: corrupt JPEG restored and saved\n",
      "\u001b[34m\u001b[1mtrain: \u001b[0mWARNING  C:\\Users\\\\Documents\\GitHub\\robost_prep_1\\Module_4\\data\\train\\images\\060.jpg: corrupt JPEG restored and saved\n",
      "\u001b[34m\u001b[1mtrain: \u001b[0mWARNING  C:\\Users\\\\Documents\\GitHub\\robost_prep_1\\Module_4\\data\\train\\images\\062.jpg: corrupt JPEG restored and saved\n",
      "\u001b[34m\u001b[1mtrain: \u001b[0mWARNING  C:\\Users\\\\Documents\\GitHub\\robost_prep_1\\Module_4\\data\\train\\images\\063.jpg: corrupt JPEG restored and saved\n",
      "\u001b[34m\u001b[1mtrain: \u001b[0mWARNING  C:\\Users\\\\Documents\\GitHub\\robost_prep_1\\Module_4\\data\\train\\images\\065.jpg: corrupt JPEG restored and saved\n",
      "\u001b[34m\u001b[1mtrain: \u001b[0mWARNING  C:\\Users\\\\Documents\\GitHub\\robost_prep_1\\Module_4\\data\\train\\images\\066.jpg: corrupt JPEG restored and saved\n",
      "\u001b[34m\u001b[1mtrain: \u001b[0mWARNING  C:\\Users\\\\Documents\\GitHub\\robost_prep_1\\Module_4\\data\\train\\images\\068.jpg: corrupt JPEG restored and saved\n",
      "\u001b[34m\u001b[1mtrain: \u001b[0mWARNING  C:\\Users\\\\Documents\\GitHub\\robost_prep_1\\Module_4\\data\\train\\images\\069.jpg: corrupt JPEG restored and saved\n",
      "\u001b[34m\u001b[1mtrain: \u001b[0mWARNING  C:\\Users\\\\Documents\\GitHub\\robost_prep_1\\Module_4\\data\\train\\images\\070.jpg: corrupt JPEG restored and saved\n",
      "\u001b[34m\u001b[1mtrain: \u001b[0mWARNING  C:\\Users\\\\Documents\\GitHub\\robost_prep_1\\Module_4\\data\\train\\images\\072.jpg: corrupt JPEG restored and saved\n",
      "\u001b[34m\u001b[1mtrain: \u001b[0mWARNING  C:\\Users\\\\Documents\\GitHub\\robost_prep_1\\Module_4\\data\\train\\images\\268.jpg: corrupt JPEG restored and saved\n",
      "\u001b[34m\u001b[1mtrain: \u001b[0mWARNING  C:\\Users\\\\Documents\\GitHub\\robost_prep_1\\Module_4\\data\\train\\images\\269.jpg: corrupt JPEG restored and saved\n",
      "\u001b[34m\u001b[1mtrain: \u001b[0mWARNING  C:\\Users\\\\Documents\\GitHub\\robost_prep_1\\Module_4\\data\\train\\images\\270.jpg: corrupt JPEG restored and saved\n",
      "\u001b[34m\u001b[1mtrain: \u001b[0mWARNING  C:\\Users\\\\Documents\\GitHub\\robost_prep_1\\Module_4\\data\\train\\images\\271.jpg: corrupt JPEG restored and saved\n",
      "\u001b[34m\u001b[1mtrain: \u001b[0mWARNING  C:\\Users\\\\Documents\\GitHub\\robost_prep_1\\Module_4\\data\\train\\images\\272.jpg: corrupt JPEG restored and saved\n",
      "\u001b[34m\u001b[1mtrain: \u001b[0mWARNING  C:\\Users\\\\Documents\\GitHub\\robost_prep_1\\Module_4\\data\\train\\images\\274.jpg: corrupt JPEG restored and saved\n",
      "\u001b[34m\u001b[1mtrain: \u001b[0mWARNING  C:\\Users\\\\Documents\\GitHub\\robost_prep_1\\Module_4\\data\\train\\images\\275.jpg: corrupt JPEG restored and saved\n",
      "\u001b[34m\u001b[1mtrain: \u001b[0mWARNING  C:\\Users\\\\Documents\\GitHub\\robost_prep_1\\Module_4\\data\\train\\images\\277.jpg: corrupt JPEG restored and saved\n",
      "\u001b[34m\u001b[1mtrain: \u001b[0mWARNING  C:\\Users\\\\Documents\\GitHub\\robost_prep_1\\Module_4\\data\\train\\images\\279.jpg: corrupt JPEG restored and saved\n",
      "\u001b[34m\u001b[1mtrain: \u001b[0mWARNING  C:\\Users\\\\Documents\\GitHub\\robost_prep_1\\Module_4\\data\\train\\images\\280.jpg: corrupt JPEG restored and saved\n",
      "\u001b[34m\u001b[1mtrain: \u001b[0mWARNING  C:\\Users\\\\Documents\\GitHub\\robost_prep_1\\Module_4\\data\\train\\images\\282.jpg: corrupt JPEG restored and saved\n",
      "\u001b[34m\u001b[1mtrain: \u001b[0mWARNING  C:\\Users\\\\Documents\\GitHub\\robost_prep_1\\Module_4\\data\\train\\images\\283.jpg: corrupt JPEG restored and saved\n",
      "\u001b[34m\u001b[1mtrain: \u001b[0mWARNING  C:\\Users\\\\Documents\\GitHub\\robost_prep_1\\Module_4\\data\\train\\images\\284.jpg: corrupt JPEG restored and saved\n",
      "\u001b[34m\u001b[1mtrain: \u001b[0mWARNING  C:\\Users\\\\Documents\\GitHub\\robost_prep_1\\Module_4\\data\\train\\images\\287.jpg: corrupt JPEG restored and saved\n",
      "\u001b[34m\u001b[1mtrain: \u001b[0mWARNING  C:\\Users\\\\Documents\\GitHub\\robost_prep_1\\Module_4\\data\\train\\images\\288.jpg: corrupt JPEG restored and saved\n",
      "\u001b[34m\u001b[1mtrain: \u001b[0mWARNING  C:\\Users\\\\Documents\\GitHub\\robost_prep_1\\Module_4\\data\\train\\images\\289.jpg: corrupt JPEG restored and saved\n",
      "\u001b[34m\u001b[1mtrain: \u001b[0mWARNING  C:\\Users\\\\Documents\\GitHub\\robost_prep_1\\Module_4\\data\\train\\images\\290.jpg: corrupt JPEG restored and saved\n",
      "\u001b[34m\u001b[1mtrain: \u001b[0mWARNING  C:\\Users\\\\Documents\\GitHub\\robost_prep_1\\Module_4\\data\\train\\images\\291.jpg: corrupt JPEG restored and saved\n",
      "\u001b[34m\u001b[1mtrain: \u001b[0mWARNING  C:\\Users\\\\Documents\\GitHub\\robost_prep_1\\Module_4\\data\\train\\images\\294.jpg: corrupt JPEG restored and saved\n",
      "\u001b[34m\u001b[1mtrain: \u001b[0mWARNING  C:\\Users\\\\Documents\\GitHub\\robost_prep_1\\Module_4\\data\\train\\images\\296.jpg: corrupt JPEG restored and saved\n",
      "\u001b[34m\u001b[1mtrain: \u001b[0mWARNING  C:\\Users\\\\Documents\\GitHub\\robost_prep_1\\Module_4\\data\\train\\images\\299.jpg: corrupt JPEG restored and saved\n",
      "\u001b[34m\u001b[1mtrain: \u001b[0mWARNING  C:\\Users\\\\Documents\\GitHub\\robost_prep_1\\Module_4\\data\\train\\images\\301.jpg: corrupt JPEG restored and saved\n",
      "\u001b[34m\u001b[1mtrain: \u001b[0mWARNING  C:\\Users\\\\Documents\\GitHub\\robost_prep_1\\Module_4\\data\\train\\images\\302.jpg: corrupt JPEG restored and saved\n",
      "\u001b[34m\u001b[1mtrain: \u001b[0mWARNING  C:\\Users\\\\Documents\\GitHub\\robost_prep_1\\Module_4\\data\\train\\images\\303.jpg: corrupt JPEG restored and saved\n",
      "\u001b[34m\u001b[1mtrain: \u001b[0mWARNING  C:\\Users\\\\Documents\\GitHub\\robost_prep_1\\Module_4\\data\\train\\images\\304.jpg: corrupt JPEG restored and saved\n",
      "\u001b[34m\u001b[1mtrain: \u001b[0mWARNING  C:\\Users\\\\Documents\\GitHub\\robost_prep_1\\Module_4\\data\\train\\images\\305.jpg: corrupt JPEG restored and saved\n",
      "\u001b[34m\u001b[1mtrain: \u001b[0mWARNING  C:\\Users\\\\Documents\\GitHub\\robost_prep_1\\Module_4\\data\\train\\images\\307.jpg: corrupt JPEG restored and saved\n",
      "\u001b[34m\u001b[1mtrain: \u001b[0mWARNING  C:\\Users\\\\Documents\\GitHub\\robost_prep_1\\Module_4\\data\\train\\images\\308.jpg: corrupt JPEG restored and saved\n",
      "\u001b[34m\u001b[1mtrain: \u001b[0mWARNING  C:\\Users\\\\Documents\\GitHub\\robost_prep_1\\Module_4\\data\\train\\images\\310.jpg: corrupt JPEG restored and saved\n",
      "\u001b[34m\u001b[1mtrain: \u001b[0mWARNING  C:\\Users\\\\Documents\\GitHub\\robost_prep_1\\Module_4\\data\\train\\images\\311.jpg: corrupt JPEG restored and saved\n",
      "\u001b[34m\u001b[1mtrain: \u001b[0mWARNING  C:\\Users\\\\Documents\\GitHub\\robost_prep_1\\Module_4\\data\\train\\images\\312.jpg: corrupt JPEG restored and saved\n",
      "\u001b[34m\u001b[1mtrain: \u001b[0mWARNING  C:\\Users\\\\Documents\\GitHub\\robost_prep_1\\Module_4\\data\\train\\images\\313.jpg: corrupt JPEG restored and saved\n",
      "\u001b[34m\u001b[1mtrain: \u001b[0mWARNING  C:\\Users\\\\Documents\\GitHub\\robost_prep_1\\Module_4\\data\\train\\images\\315.jpg: corrupt JPEG restored and saved\n",
      "\u001b[34m\u001b[1mtrain: \u001b[0mWARNING  C:\\Users\\\\Documents\\GitHub\\robost_prep_1\\Module_4\\data\\train\\images\\316.jpg: corrupt JPEG restored and saved\n",
      "\u001b[34m\u001b[1mtrain: \u001b[0mWARNING  C:\\Users\\\\Documents\\GitHub\\robost_prep_1\\Module_4\\data\\train\\images\\317.jpg: corrupt JPEG restored and saved\n",
      "\u001b[34m\u001b[1mtrain: \u001b[0mWARNING  C:\\Users\\\\Documents\\GitHub\\robost_prep_1\\Module_4\\data\\train\\images\\318.jpg: corrupt JPEG restored and saved\n",
      "\u001b[34m\u001b[1mtrain: \u001b[0mWARNING  C:\\Users\\\\Documents\\GitHub\\robost_prep_1\\Module_4\\data\\train\\images\\319.jpg: corrupt JPEG restored and saved\n",
      "\u001b[34m\u001b[1mtrain: \u001b[0mWARNING  C:\\Users\\\\Documents\\GitHub\\robost_prep_1\\Module_4\\data\\train\\images\\321.jpg: corrupt JPEG restored and saved\n",
      "\u001b[34m\u001b[1mtrain: \u001b[0mWARNING  C:\\Users\\\\Documents\\GitHub\\robost_prep_1\\Module_4\\data\\train\\images\\322.jpg: corrupt JPEG restored and saved\n",
      "\u001b[34m\u001b[1mtrain: \u001b[0mWARNING  C:\\Users\\\\Documents\\GitHub\\robost_prep_1\\Module_4\\data\\train\\images\\323.jpg: corrupt JPEG restored and saved\n",
      "\u001b[34m\u001b[1mAutoBatch: \u001b[0mComputing optimal batch size for imgsz=640 at 60.0% CUDA memory utilization.\n",
      "\u001b[34m\u001b[1mAutoBatch: \u001b[0m  intended for CUDA devices, using default batch-size 16\n"
     ]
    },
    {
     "name": "stderr",
     "output_type": "stream",
     "text": [
      "\n",
      "\u001b[34m\u001b[1mtrain: \u001b[0mScanning C:\\Users\\Илья\\Documents\\GitHub\\robost_prep_1\\Module_4\\data\\train\\labels.cache... 329 images, 0 backgrounds, 0 corrupt: 100%|██████████| 329/329 [00:00<?, ?it/s]"
     ]
    },
    {
     "name": "stdout",
     "output_type": "stream",
     "text": [
      "\u001b[34m\u001b[1mtrain: \u001b[0mWARNING  C:\\Users\\\\Documents\\GitHub\\robost_prep_1\\Module_4\\data\\train\\images\\002.jpg: corrupt JPEG restored and saved\n",
      "\u001b[34m\u001b[1mtrain: \u001b[0mWARNING  C:\\Users\\\\Documents\\GitHub\\robost_prep_1\\Module_4\\data\\train\\images\\003.jpg: corrupt JPEG restored and saved\n",
      "\u001b[34m\u001b[1mtrain: \u001b[0mWARNING  C:\\Users\\\\Documents\\GitHub\\robost_prep_1\\Module_4\\data\\train\\images\\005.jpg: corrupt JPEG restored and saved\n",
      "\u001b[34m\u001b[1mtrain: \u001b[0mWARNING  C:\\Users\\\\Documents\\GitHub\\robost_prep_1\\Module_4\\data\\train\\images\\007.jpg: corrupt JPEG restored and saved\n",
      "\u001b[34m\u001b[1mtrain: \u001b[0mWARNING  C:\\Users\\\\Documents\\GitHub\\robost_prep_1\\Module_4\\data\\train\\images\\009.jpg: corrupt JPEG restored and saved\n",
      "\u001b[34m\u001b[1mtrain: \u001b[0mWARNING  C:\\Users\\\\Documents\\GitHub\\robost_prep_1\\Module_4\\data\\train\\images\\011.jpg: corrupt JPEG restored and saved\n",
      "\u001b[34m\u001b[1mtrain: \u001b[0mWARNING  C:\\Users\\\\Documents\\GitHub\\robost_prep_1\\Module_4\\data\\train\\images\\012.jpg: corrupt JPEG restored and saved\n",
      "\u001b[34m\u001b[1mtrain: \u001b[0mWARNING  C:\\Users\\\\Documents\\GitHub\\robost_prep_1\\Module_4\\data\\train\\images\\013.jpg: corrupt JPEG restored and saved\n",
      "\u001b[34m\u001b[1mtrain: \u001b[0mWARNING  C:\\Users\\\\Documents\\GitHub\\robost_prep_1\\Module_4\\data\\train\\images\\014.jpg: corrupt JPEG restored and saved\n",
      "\u001b[34m\u001b[1mtrain: \u001b[0mWARNING  C:\\Users\\\\Documents\\GitHub\\robost_prep_1\\Module_4\\data\\train\\images\\015.jpg: corrupt JPEG restored and saved\n",
      "\u001b[34m\u001b[1mtrain: \u001b[0mWARNING  C:\\Users\\\\Documents\\GitHub\\robost_prep_1\\Module_4\\data\\train\\images\\018.jpg: corrupt JPEG restored and saved\n",
      "\u001b[34m\u001b[1mtrain: \u001b[0mWARNING  C:\\Users\\\\Documents\\GitHub\\robost_prep_1\\Module_4\\data\\train\\images\\021.jpg: corrupt JPEG restored and saved\n",
      "\u001b[34m\u001b[1mtrain: \u001b[0mWARNING  C:\\Users\\\\Documents\\GitHub\\robost_prep_1\\Module_4\\data\\train\\images\\022.jpg: corrupt JPEG restored and saved\n",
      "\u001b[34m\u001b[1mtrain: \u001b[0mWARNING  C:\\Users\\\\Documents\\GitHub\\robost_prep_1\\Module_4\\data\\train\\images\\024.jpg: corrupt JPEG restored and saved\n",
      "\u001b[34m\u001b[1mtrain: \u001b[0mWARNING  C:\\Users\\\\Documents\\GitHub\\robost_prep_1\\Module_4\\data\\train\\images\\025.jpg: corrupt JPEG restored and saved\n",
      "\u001b[34m\u001b[1mtrain: \u001b[0mWARNING  C:\\Users\\\\Documents\\GitHub\\robost_prep_1\\Module_4\\data\\train\\images\\027.jpg: corrupt JPEG restored and saved\n",
      "\u001b[34m\u001b[1mtrain: \u001b[0mWARNING  C:\\Users\\\\Documents\\GitHub\\robost_prep_1\\Module_4\\data\\train\\images\\028.jpg: corrupt JPEG restored and saved\n",
      "\u001b[34m\u001b[1mtrain: \u001b[0mWARNING  C:\\Users\\\\Documents\\GitHub\\robost_prep_1\\Module_4\\data\\train\\images\\029.jpg: corrupt JPEG restored and saved\n",
      "\u001b[34m\u001b[1mtrain: \u001b[0mWARNING  C:\\Users\\\\Documents\\GitHub\\robost_prep_1\\Module_4\\data\\train\\images\\030.jpg: corrupt JPEG restored and saved\n",
      "\u001b[34m\u001b[1mtrain: \u001b[0mWARNING  C:\\Users\\\\Documents\\GitHub\\robost_prep_1\\Module_4\\data\\train\\images\\033.jpg: corrupt JPEG restored and saved\n",
      "\u001b[34m\u001b[1mtrain: \u001b[0mWARNING  C:\\Users\\\\Documents\\GitHub\\robost_prep_1\\Module_4\\data\\train\\images\\035.jpg: corrupt JPEG restored and saved\n",
      "\u001b[34m\u001b[1mtrain: \u001b[0mWARNING  C:\\Users\\\\Documents\\GitHub\\robost_prep_1\\Module_4\\data\\train\\images\\036.jpg: corrupt JPEG restored and saved\n",
      "\u001b[34m\u001b[1mtrain: \u001b[0mWARNING  C:\\Users\\\\Documents\\GitHub\\robost_prep_1\\Module_4\\data\\train\\images\\037.jpg: corrupt JPEG restored and saved\n",
      "\u001b[34m\u001b[1mtrain: \u001b[0mWARNING  C:\\Users\\\\Documents\\GitHub\\robost_prep_1\\Module_4\\data\\train\\images\\038.jpg: corrupt JPEG restored and saved\n",
      "\u001b[34m\u001b[1mtrain: \u001b[0mWARNING  C:\\Users\\\\Documents\\GitHub\\robost_prep_1\\Module_4\\data\\train\\images\\039.jpg: corrupt JPEG restored and saved\n",
      "\u001b[34m\u001b[1mtrain: \u001b[0mWARNING  C:\\Users\\\\Documents\\GitHub\\robost_prep_1\\Module_4\\data\\train\\images\\041.jpg: corrupt JPEG restored and saved\n",
      "\u001b[34m\u001b[1mtrain: \u001b[0mWARNING  C:\\Users\\\\Documents\\GitHub\\robost_prep_1\\Module_4\\data\\train\\images\\042.jpg: corrupt JPEG restored and saved\n",
      "\u001b[34m\u001b[1mtrain: \u001b[0mWARNING  C:\\Users\\\\Documents\\GitHub\\robost_prep_1\\Module_4\\data\\train\\images\\044.jpg: corrupt JPEG restored and saved\n",
      "\u001b[34m\u001b[1mtrain: \u001b[0mWARNING  C:\\Users\\\\Documents\\GitHub\\robost_prep_1\\Module_4\\data\\train\\images\\045.jpg: corrupt JPEG restored and saved\n",
      "\u001b[34m\u001b[1mtrain: \u001b[0mWARNING  C:\\Users\\\\Documents\\GitHub\\robost_prep_1\\Module_4\\data\\train\\images\\048.jpg: corrupt JPEG restored and saved\n",
      "\u001b[34m\u001b[1mtrain: \u001b[0mWARNING  C:\\Users\\\\Documents\\GitHub\\robost_prep_1\\Module_4\\data\\train\\images\\049.jpg: corrupt JPEG restored and saved\n",
      "\u001b[34m\u001b[1mtrain: \u001b[0mWARNING  C:\\Users\\\\Documents\\GitHub\\robost_prep_1\\Module_4\\data\\train\\images\\050.jpg: corrupt JPEG restored and saved\n",
      "\u001b[34m\u001b[1mtrain: \u001b[0mWARNING  C:\\Users\\\\Documents\\GitHub\\robost_prep_1\\Module_4\\data\\train\\images\\051.jpg: corrupt JPEG restored and saved\n",
      "\u001b[34m\u001b[1mtrain: \u001b[0mWARNING  C:\\Users\\\\Documents\\GitHub\\robost_prep_1\\Module_4\\data\\train\\images\\052.jpg: corrupt JPEG restored and saved\n",
      "\u001b[34m\u001b[1mtrain: \u001b[0mWARNING  C:\\Users\\\\Documents\\GitHub\\robost_prep_1\\Module_4\\data\\train\\images\\053.jpg: corrupt JPEG restored and saved\n",
      "\u001b[34m\u001b[1mtrain: \u001b[0mWARNING  C:\\Users\\\\Documents\\GitHub\\robost_prep_1\\Module_4\\data\\train\\images\\054.jpg: corrupt JPEG restored and saved\n",
      "\u001b[34m\u001b[1mtrain: \u001b[0mWARNING  C:\\Users\\\\Documents\\GitHub\\robost_prep_1\\Module_4\\data\\train\\images\\055.jpg: corrupt JPEG restored and saved\n",
      "\u001b[34m\u001b[1mtrain: \u001b[0mWARNING  C:\\Users\\\\Documents\\GitHub\\robost_prep_1\\Module_4\\data\\train\\images\\059.jpg: corrupt JPEG restored and saved\n",
      "\u001b[34m\u001b[1mtrain: \u001b[0mWARNING  C:\\Users\\\\Documents\\GitHub\\robost_prep_1\\Module_4\\data\\train\\images\\060.jpg: corrupt JPEG restored and saved\n",
      "\u001b[34m\u001b[1mtrain: \u001b[0mWARNING  C:\\Users\\\\Documents\\GitHub\\robost_prep_1\\Module_4\\data\\train\\images\\062.jpg: corrupt JPEG restored and saved\n",
      "\u001b[34m\u001b[1mtrain: \u001b[0mWARNING  C:\\Users\\\\Documents\\GitHub\\robost_prep_1\\Module_4\\data\\train\\images\\063.jpg: corrupt JPEG restored and saved\n",
      "\u001b[34m\u001b[1mtrain: \u001b[0mWARNING  C:\\Users\\\\Documents\\GitHub\\robost_prep_1\\Module_4\\data\\train\\images\\065.jpg: corrupt JPEG restored and saved\n",
      "\u001b[34m\u001b[1mtrain: \u001b[0mWARNING  C:\\Users\\\\Documents\\GitHub\\robost_prep_1\\Module_4\\data\\train\\images\\066.jpg: corrupt JPEG restored and saved\n",
      "\u001b[34m\u001b[1mtrain: \u001b[0mWARNING  C:\\Users\\\\Documents\\GitHub\\robost_prep_1\\Module_4\\data\\train\\images\\068.jpg: corrupt JPEG restored and saved\n",
      "\u001b[34m\u001b[1mtrain: \u001b[0mWARNING  C:\\Users\\\\Documents\\GitHub\\robost_prep_1\\Module_4\\data\\train\\images\\069.jpg: corrupt JPEG restored and saved\n",
      "\u001b[34m\u001b[1mtrain: \u001b[0mWARNING  C:\\Users\\\\Documents\\GitHub\\robost_prep_1\\Module_4\\data\\train\\images\\070.jpg: corrupt JPEG restored and saved\n",
      "\u001b[34m\u001b[1mtrain: \u001b[0mWARNING  C:\\Users\\\\Documents\\GitHub\\robost_prep_1\\Module_4\\data\\train\\images\\072.jpg: corrupt JPEG restored and saved\n",
      "\u001b[34m\u001b[1mtrain: \u001b[0mWARNING  C:\\Users\\\\Documents\\GitHub\\robost_prep_1\\Module_4\\data\\train\\images\\268.jpg: corrupt JPEG restored and saved\n",
      "\u001b[34m\u001b[1mtrain: \u001b[0mWARNING  C:\\Users\\\\Documents\\GitHub\\robost_prep_1\\Module_4\\data\\train\\images\\269.jpg: corrupt JPEG restored and saved\n",
      "\u001b[34m\u001b[1mtrain: \u001b[0mWARNING  C:\\Users\\\\Documents\\GitHub\\robost_prep_1\\Module_4\\data\\train\\images\\270.jpg: corrupt JPEG restored and saved\n",
      "\u001b[34m\u001b[1mtrain: \u001b[0mWARNING  C:\\Users\\\\Documents\\GitHub\\robost_prep_1\\Module_4\\data\\train\\images\\271.jpg: corrupt JPEG restored and saved\n",
      "\u001b[34m\u001b[1mtrain: \u001b[0mWARNING  C:\\Users\\\\Documents\\GitHub\\robost_prep_1\\Module_4\\data\\train\\images\\272.jpg: corrupt JPEG restored and saved\n",
      "\u001b[34m\u001b[1mtrain: \u001b[0mWARNING  C:\\Users\\\\Documents\\GitHub\\robost_prep_1\\Module_4\\data\\train\\images\\274.jpg: corrupt JPEG restored and saved\n",
      "\u001b[34m\u001b[1mtrain: \u001b[0mWARNING  C:\\Users\\\\Documents\\GitHub\\robost_prep_1\\Module_4\\data\\train\\images\\275.jpg: corrupt JPEG restored and saved\n",
      "\u001b[34m\u001b[1mtrain: \u001b[0mWARNING  C:\\Users\\\\Documents\\GitHub\\robost_prep_1\\Module_4\\data\\train\\images\\277.jpg: corrupt JPEG restored and saved\n",
      "\u001b[34m\u001b[1mtrain: \u001b[0mWARNING  C:\\Users\\\\Documents\\GitHub\\robost_prep_1\\Module_4\\data\\train\\images\\279.jpg: corrupt JPEG restored and saved\n",
      "\u001b[34m\u001b[1mtrain: \u001b[0mWARNING  C:\\Users\\\\Documents\\GitHub\\robost_prep_1\\Module_4\\data\\train\\images\\280.jpg: corrupt JPEG restored and saved\n",
      "\u001b[34m\u001b[1mtrain: \u001b[0mWARNING  C:\\Users\\\\Documents\\GitHub\\robost_prep_1\\Module_4\\data\\train\\images\\282.jpg: corrupt JPEG restored and saved\n",
      "\u001b[34m\u001b[1mtrain: \u001b[0mWARNING  C:\\Users\\\\Documents\\GitHub\\robost_prep_1\\Module_4\\data\\train\\images\\283.jpg: corrupt JPEG restored and saved\n",
      "\u001b[34m\u001b[1mtrain: \u001b[0mWARNING  C:\\Users\\\\Documents\\GitHub\\robost_prep_1\\Module_4\\data\\train\\images\\284.jpg: corrupt JPEG restored and saved\n",
      "\u001b[34m\u001b[1mtrain: \u001b[0mWARNING  C:\\Users\\\\Documents\\GitHub\\robost_prep_1\\Module_4\\data\\train\\images\\287.jpg: corrupt JPEG restored and saved\n",
      "\u001b[34m\u001b[1mtrain: \u001b[0mWARNING  C:\\Users\\\\Documents\\GitHub\\robost_prep_1\\Module_4\\data\\train\\images\\288.jpg: corrupt JPEG restored and saved\n",
      "\u001b[34m\u001b[1mtrain: \u001b[0mWARNING  C:\\Users\\\\Documents\\GitHub\\robost_prep_1\\Module_4\\data\\train\\images\\289.jpg: corrupt JPEG restored and saved\n",
      "\u001b[34m\u001b[1mtrain: \u001b[0mWARNING  C:\\Users\\\\Documents\\GitHub\\robost_prep_1\\Module_4\\data\\train\\images\\290.jpg: corrupt JPEG restored and saved\n",
      "\u001b[34m\u001b[1mtrain: \u001b[0mWARNING  C:\\Users\\\\Documents\\GitHub\\robost_prep_1\\Module_4\\data\\train\\images\\291.jpg: corrupt JPEG restored and saved\n",
      "\u001b[34m\u001b[1mtrain: \u001b[0mWARNING  C:\\Users\\\\Documents\\GitHub\\robost_prep_1\\Module_4\\data\\train\\images\\294.jpg: corrupt JPEG restored and saved\n",
      "\u001b[34m\u001b[1mtrain: \u001b[0mWARNING  C:\\Users\\\\Documents\\GitHub\\robost_prep_1\\Module_4\\data\\train\\images\\296.jpg: corrupt JPEG restored and saved\n",
      "\u001b[34m\u001b[1mtrain: \u001b[0mWARNING  C:\\Users\\\\Documents\\GitHub\\robost_prep_1\\Module_4\\data\\train\\images\\299.jpg: corrupt JPEG restored and saved\n",
      "\u001b[34m\u001b[1mtrain: \u001b[0mWARNING  C:\\Users\\\\Documents\\GitHub\\robost_prep_1\\Module_4\\data\\train\\images\\301.jpg: corrupt JPEG restored and saved\n",
      "\u001b[34m\u001b[1mtrain: \u001b[0mWARNING  C:\\Users\\\\Documents\\GitHub\\robost_prep_1\\Module_4\\data\\train\\images\\302.jpg: corrupt JPEG restored and saved\n",
      "\u001b[34m\u001b[1mtrain: \u001b[0mWARNING  C:\\Users\\\\Documents\\GitHub\\robost_prep_1\\Module_4\\data\\train\\images\\303.jpg: corrupt JPEG restored and saved\n",
      "\u001b[34m\u001b[1mtrain: \u001b[0mWARNING  C:\\Users\\\\Documents\\GitHub\\robost_prep_1\\Module_4\\data\\train\\images\\304.jpg: corrupt JPEG restored and saved\n",
      "\u001b[34m\u001b[1mtrain: \u001b[0mWARNING  C:\\Users\\\\Documents\\GitHub\\robost_prep_1\\Module_4\\data\\train\\images\\305.jpg: corrupt JPEG restored and saved\n",
      "\u001b[34m\u001b[1mtrain: \u001b[0mWARNING  C:\\Users\\\\Documents\\GitHub\\robost_prep_1\\Module_4\\data\\train\\images\\307.jpg: corrupt JPEG restored and saved\n",
      "\u001b[34m\u001b[1mtrain: \u001b[0mWARNING  C:\\Users\\\\Documents\\GitHub\\robost_prep_1\\Module_4\\data\\train\\images\\308.jpg: corrupt JPEG restored and saved\n",
      "\u001b[34m\u001b[1mtrain: \u001b[0mWARNING  C:\\Users\\\\Documents\\GitHub\\robost_prep_1\\Module_4\\data\\train\\images\\310.jpg: corrupt JPEG restored and saved\n",
      "\u001b[34m\u001b[1mtrain: \u001b[0mWARNING  C:\\Users\\\\Documents\\GitHub\\robost_prep_1\\Module_4\\data\\train\\images\\311.jpg: corrupt JPEG restored and saved\n",
      "\u001b[34m\u001b[1mtrain: \u001b[0mWARNING  C:\\Users\\\\Documents\\GitHub\\robost_prep_1\\Module_4\\data\\train\\images\\312.jpg: corrupt JPEG restored and saved\n",
      "\u001b[34m\u001b[1mtrain: \u001b[0mWARNING  C:\\Users\\\\Documents\\GitHub\\robost_prep_1\\Module_4\\data\\train\\images\\313.jpg: corrupt JPEG restored and saved\n",
      "\u001b[34m\u001b[1mtrain: \u001b[0mWARNING  C:\\Users\\\\Documents\\GitHub\\robost_prep_1\\Module_4\\data\\train\\images\\315.jpg: corrupt JPEG restored and saved\n",
      "\u001b[34m\u001b[1mtrain: \u001b[0mWARNING  C:\\Users\\\\Documents\\GitHub\\robost_prep_1\\Module_4\\data\\train\\images\\316.jpg: corrupt JPEG restored and saved\n",
      "\u001b[34m\u001b[1mtrain: \u001b[0mWARNING  C:\\Users\\\\Documents\\GitHub\\robost_prep_1\\Module_4\\data\\train\\images\\317.jpg: corrupt JPEG restored and saved\n",
      "\u001b[34m\u001b[1mtrain: \u001b[0mWARNING  C:\\Users\\\\Documents\\GitHub\\robost_prep_1\\Module_4\\data\\train\\images\\318.jpg: corrupt JPEG restored and saved\n",
      "\u001b[34m\u001b[1mtrain: \u001b[0mWARNING  C:\\Users\\\\Documents\\GitHub\\robost_prep_1\\Module_4\\data\\train\\images\\319.jpg: corrupt JPEG restored and saved\n",
      "\u001b[34m\u001b[1mtrain: \u001b[0mWARNING  C:\\Users\\\\Documents\\GitHub\\robost_prep_1\\Module_4\\data\\train\\images\\321.jpg: corrupt JPEG restored and saved\n",
      "\u001b[34m\u001b[1mtrain: \u001b[0mWARNING  C:\\Users\\\\Documents\\GitHub\\robost_prep_1\\Module_4\\data\\train\\images\\322.jpg: corrupt JPEG restored and saved\n",
      "\u001b[34m\u001b[1mtrain: \u001b[0mWARNING  C:\\Users\\\\Documents\\GitHub\\robost_prep_1\\Module_4\\data\\train\\images\\323.jpg: corrupt JPEG restored and saved\n"
     ]
    },
    {
     "name": "stderr",
     "output_type": "stream",
     "text": [
      "\n",
      "\u001b[34m\u001b[1mval: \u001b[0mScanning C:\\Users\\Илья\\Documents\\GitHub\\robost_prep_1\\Module_4\\data\\valid\\labels.cache... 91 images, 0 backgrounds, 0 corrupt: 100%|██████████| 91/91 [00:00<?, ?it/s]"
     ]
    },
    {
     "name": "stdout",
     "output_type": "stream",
     "text": [
      "\u001b[34m\u001b[1mval: \u001b[0mWARNING  C:\\Users\\\\Documents\\GitHub\\robost_prep_1\\Module_4\\data\\valid\\images\\004.jpg: corrupt JPEG restored and saved\n",
      "\u001b[34m\u001b[1mval: \u001b[0mWARNING  C:\\Users\\\\Documents\\GitHub\\robost_prep_1\\Module_4\\data\\valid\\images\\008.jpg: corrupt JPEG restored and saved\n",
      "\u001b[34m\u001b[1mval: \u001b[0mWARNING  C:\\Users\\\\Documents\\GitHub\\robost_prep_1\\Module_4\\data\\valid\\images\\016.jpg: corrupt JPEG restored and saved\n",
      "\u001b[34m\u001b[1mval: \u001b[0mWARNING  C:\\Users\\\\Documents\\GitHub\\robost_prep_1\\Module_4\\data\\valid\\images\\017.jpg: corrupt JPEG restored and saved\n",
      "\u001b[34m\u001b[1mval: \u001b[0mWARNING  C:\\Users\\\\Documents\\GitHub\\robost_prep_1\\Module_4\\data\\valid\\images\\019.jpg: corrupt JPEG restored and saved\n",
      "\u001b[34m\u001b[1mval: \u001b[0mWARNING  C:\\Users\\\\Documents\\GitHub\\robost_prep_1\\Module_4\\data\\valid\\images\\020.jpg: corrupt JPEG restored and saved\n",
      "\u001b[34m\u001b[1mval: \u001b[0mWARNING  C:\\Users\\\\Documents\\GitHub\\robost_prep_1\\Module_4\\data\\valid\\images\\023.jpg: corrupt JPEG restored and saved\n",
      "\u001b[34m\u001b[1mval: \u001b[0mWARNING  C:\\Users\\\\Documents\\GitHub\\robost_prep_1\\Module_4\\data\\valid\\images\\031.jpg: corrupt JPEG restored and saved\n",
      "\u001b[34m\u001b[1mval: \u001b[0mWARNING  C:\\Users\\\\Documents\\GitHub\\robost_prep_1\\Module_4\\data\\valid\\images\\034.jpg: corrupt JPEG restored and saved\n",
      "\u001b[34m\u001b[1mval: \u001b[0mWARNING  C:\\Users\\\\Documents\\GitHub\\robost_prep_1\\Module_4\\data\\valid\\images\\047.jpg: corrupt JPEG restored and saved\n",
      "\u001b[34m\u001b[1mval: \u001b[0mWARNING  C:\\Users\\\\Documents\\GitHub\\robost_prep_1\\Module_4\\data\\valid\\images\\056.jpg: corrupt JPEG restored and saved\n",
      "\u001b[34m\u001b[1mval: \u001b[0mWARNING  C:\\Users\\\\Documents\\GitHub\\robost_prep_1\\Module_4\\data\\valid\\images\\061.jpg: corrupt JPEG restored and saved\n",
      "\u001b[34m\u001b[1mval: \u001b[0mWARNING  C:\\Users\\\\Documents\\GitHub\\robost_prep_1\\Module_4\\data\\valid\\images\\067.jpg: corrupt JPEG restored and saved\n",
      "\u001b[34m\u001b[1mval: \u001b[0mWARNING  C:\\Users\\\\Documents\\GitHub\\robost_prep_1\\Module_4\\data\\valid\\images\\073.jpg: corrupt JPEG restored and saved\n",
      "\u001b[34m\u001b[1mval: \u001b[0mWARNING  C:\\Users\\\\Documents\\GitHub\\robost_prep_1\\Module_4\\data\\valid\\images\\076.jpg: corrupt JPEG restored and saved\n",
      "\u001b[34m\u001b[1mval: \u001b[0mWARNING  C:\\Users\\\\Documents\\GitHub\\robost_prep_1\\Module_4\\data\\valid\\images\\276.jpg: corrupt JPEG restored and saved\n",
      "\u001b[34m\u001b[1mval: \u001b[0mWARNING  C:\\Users\\\\Documents\\GitHub\\robost_prep_1\\Module_4\\data\\valid\\images\\278.jpg: corrupt JPEG restored and saved\n",
      "\u001b[34m\u001b[1mval: \u001b[0mWARNING  C:\\Users\\\\Documents\\GitHub\\robost_prep_1\\Module_4\\data\\valid\\images\\285.jpg: corrupt JPEG restored and saved\n",
      "\u001b[34m\u001b[1mval: \u001b[0mWARNING  C:\\Users\\\\Documents\\GitHub\\robost_prep_1\\Module_4\\data\\valid\\images\\286.jpg: corrupt JPEG restored and saved\n",
      "\u001b[34m\u001b[1mval: \u001b[0mWARNING  C:\\Users\\\\Documents\\GitHub\\robost_prep_1\\Module_4\\data\\valid\\images\\292.jpg: corrupt JPEG restored and saved\n",
      "\u001b[34m\u001b[1mval: \u001b[0mWARNING  C:\\Users\\\\Documents\\GitHub\\robost_prep_1\\Module_4\\data\\valid\\images\\295.jpg: corrupt JPEG restored and saved\n",
      "\u001b[34m\u001b[1mval: \u001b[0mWARNING  C:\\Users\\\\Documents\\GitHub\\robost_prep_1\\Module_4\\data\\valid\\images\\300.jpg: corrupt JPEG restored and saved\n",
      "\u001b[34m\u001b[1mval: \u001b[0mWARNING  C:\\Users\\\\Documents\\GitHub\\robost_prep_1\\Module_4\\data\\valid\\images\\320.jpg: corrupt JPEG restored and saved\n"
     ]
    },
    {
     "name": "stderr",
     "output_type": "stream",
     "text": [
      "\n"
     ]
    },
    {
     "name": "stdout",
     "output_type": "stream",
     "text": [
      "Plotting labels to C:\\Users\\\\Documents\\GitHub\\robost_prep_1\\runs\\detect\\new_df_objects_detection_v1_1ep2\\labels.jpg... \n",
      "\u001b[34m\u001b[1moptimizer:\u001b[0m 'optimizer=auto' found, ignoring 'lr0=0.01' and 'momentum=0.937' and determining best 'optimizer', 'lr0' and 'momentum' automatically... \n",
      "\u001b[34m\u001b[1moptimizer:\u001b[0m AdamW(lr=0.001111, momentum=0.9) with parameter groups 57 weight(decay=0.0), 64 weight(decay=0.0005), 63 bias(decay=0.0)\n",
      "Image sizes 640 train, 640 val\n",
      "Using 0 dataloader workers\n",
      "Logging results to \u001b[1mC:\\Users\\\\Documents\\GitHub\\robost_prep_1\\runs\\detect\\new_df_objects_detection_v1_1ep2\u001b[0m\n",
      "Starting training for 5 epochs...\n",
      "\n",
      "      Epoch    GPU_mem   box_loss   cls_loss   dfl_loss  Instances       Size\n"
     ]
    },
    {
     "name": "stderr",
     "output_type": "stream",
     "text": [
      "        1/5         0G     0.6161      3.151     0.8981         72        640: 100%|██████████| 21/21 [05:12<00:00, 14.89s/it]\n",
      "                 Class     Images  Instances      Box(P          R      mAP50  mAP50-95): 100%|██████████| 3/3 [00:48<00:00, 16.33s/it]"
     ]
    },
    {
     "name": "stdout",
     "output_type": "stream",
     "text": [
      "                   all         91        181      0.944     0.0477      0.266      0.226\n"
     ]
    },
    {
     "name": "stderr",
     "output_type": "stream",
     "text": [
      "\n"
     ]
    },
    {
     "name": "stdout",
     "output_type": "stream",
     "text": [
      "\n",
      "      Epoch    GPU_mem   box_loss   cls_loss   dfl_loss  Instances       Size\n"
     ]
    },
    {
     "name": "stderr",
     "output_type": "stream",
     "text": [
      "        2/5         0G      0.619      1.615     0.8936         41        640: 100%|██████████| 21/21 [05:30<00:00, 15.73s/it]\n",
      "                 Class     Images  Instances      Box(P          R      mAP50  mAP50-95): 100%|██████████| 3/3 [00:36<00:00, 12.22s/it]"
     ]
    },
    {
     "name": "stdout",
     "output_type": "stream",
     "text": [
      "                   all         91        181          1      0.153      0.501      0.436\n"
     ]
    },
    {
     "name": "stderr",
     "output_type": "stream",
     "text": [
      "\n"
     ]
    },
    {
     "name": "stdout",
     "output_type": "stream",
     "text": [
      "\n",
      "      Epoch    GPU_mem   box_loss   cls_loss   dfl_loss  Instances       Size\n"
     ]
    },
    {
     "name": "stderr",
     "output_type": "stream",
     "text": [
      "        3/5         0G     0.5894      1.298     0.9062         23        640: 100%|██████████| 21/21 [05:11<00:00, 14.83s/it]\n",
      "                 Class     Images  Instances      Box(P          R      mAP50  mAP50-95): 100%|██████████| 3/3 [00:37<00:00, 12.45s/it]"
     ]
    },
    {
     "name": "stdout",
     "output_type": "stream",
     "text": [
      "                   all         91        181          1      0.192      0.689      0.609\n"
     ]
    },
    {
     "name": "stderr",
     "output_type": "stream",
     "text": [
      "\n"
     ]
    },
    {
     "name": "stdout",
     "output_type": "stream",
     "text": [
      "\n",
      "      Epoch    GPU_mem   box_loss   cls_loss   dfl_loss  Instances       Size\n"
     ]
    },
    {
     "name": "stderr",
     "output_type": "stream",
     "text": [
      "        4/5         0G     0.5579      1.169     0.8973         55        640: 100%|██████████| 21/21 [05:14<00:00, 14.96s/it]\n",
      "                 Class     Images  Instances      Box(P          R      mAP50  mAP50-95): 100%|██████████| 3/3 [00:38<00:00, 12.79s/it]"
     ]
    },
    {
     "name": "stdout",
     "output_type": "stream",
     "text": [
      "                   all         91        181      0.948      0.505      0.833      0.731\n"
     ]
    },
    {
     "name": "stderr",
     "output_type": "stream",
     "text": [
      "\n"
     ]
    },
    {
     "name": "stdout",
     "output_type": "stream",
     "text": [
      "\n",
      "      Epoch    GPU_mem   box_loss   cls_loss   dfl_loss  Instances       Size\n"
     ]
    },
    {
     "name": "stderr",
     "output_type": "stream",
     "text": [
      "        5/5         0G     0.5391       1.05     0.8831         40        640: 100%|██████████| 21/21 [05:26<00:00, 15.56s/it]\n",
      "                 Class     Images  Instances      Box(P          R      mAP50  mAP50-95): 100%|██████████| 3/3 [00:40<00:00, 13.46s/it]"
     ]
    },
    {
     "name": "stdout",
     "output_type": "stream",
     "text": [
      "                   all         91        181      0.879      0.865       0.92      0.815\n"
     ]
    },
    {
     "name": "stderr",
     "output_type": "stream",
     "text": [
      "\n"
     ]
    },
    {
     "name": "stdout",
     "output_type": "stream",
     "text": [
      "\n",
      "5 epochs completed in 0.500 hours.\n",
      "Optimizer stripped from C:\\Users\\\\Documents\\GitHub\\robost_prep_1\\runs\\detect\\new_df_objects_detection_v1_1ep2\\weights\\last.pt, 6.3MB\n",
      "Optimizer stripped from C:\\Users\\\\Documents\\GitHub\\robost_prep_1\\runs\\detect\\new_df_objects_detection_v1_1ep2\\weights\\best.pt, 6.3MB\n",
      "\n",
      "Validating C:\\Users\\\\Documents\\GitHub\\robost_prep_1\\runs\\detect\\new_df_objects_detection_v1_1ep2\\weights\\best.pt...\n",
      "Ultralytics 8.3.105  Python-3.10.11 torch-2.6.0+cpu CPU (AMD Ryzen 5 7520U with Radeon Graphics)\n",
      "Model summary (fused): 72 layers, 3,006,623 parameters, 0 gradients, 8.1 GFLOPs\n"
     ]
    },
    {
     "name": "stderr",
     "output_type": "stream",
     "text": [
      "                 Class     Images  Instances      Box(P          R      mAP50  mAP50-95): 100%|██████████| 3/3 [00:22<00:00,  7.65s/it]\n"
     ]
    },
    {
     "name": "stdout",
     "output_type": "stream",
     "text": [
      "                   all         91        181       0.88      0.865       0.92      0.815\n",
      "                 45_mm         42         43      0.951      0.901      0.961      0.874\n",
      "               pyramid         48         50      0.958       0.94      0.989      0.879\n",
      "              cylinder         55         67      0.915       0.94      0.982      0.894\n",
      "                  ball         10         11      0.793      0.545      0.804      0.687\n",
      "                  cube          9         10      0.781          1      0.862      0.741\n",
      "Speed: 2.1ms preprocess, 98.5ms inference, 0.0ms loss, 6.1ms postprocess per image\n",
      "Results saved to \u001b[1mC:\\Users\\\\Documents\\GitHub\\robost_prep_1\\runs\\detect\\new_df_objects_detection_v1_1ep2\u001b[0m\n"
     ]
    }
   ],
   "source": [
    "results_test = model.train(\n",
    "  data = r'C:\\Users\\Илья\\Documents\\GitHub\\robost_prep_1\\Module_4\\data.yaml',   # путь в файлу yaml со всеми гиперпараметрами\n",
    "  epochs = 5,                   # количество эпох\n",
    "  imgsz = 640,                  # размер изображения\n",
    "  batch = -1,                   # количество батчей (-1 = определяется автоматически)\n",
    "  device = device,              # устройство для обучение         \n",
    "  cos_lr = True,                # косинусный планировщик кривой скорости обучения (динамический подбор скорости обучения)\n",
    "  lr0 = 0.01,                   # скорость обучения\n",
    "  name = 'new_df_objects_detection_v1_1ep' # имя папки с результатами\n",
    ")"
   ]
  },
  {
   "cell_type": "markdown",
   "id": "b411bb97",
   "metadata": {},
   "source": [
    "использование модели далее:\n",
    "```py\n",
    "ready_model = YOLO(r'C:\\Users\\Илья\\Documents\\GitHub\\robost_prep_1\\runs\\detect\\objects_detection_v1_trash\\weights\\best.pt')\n",
    "```"
   ]
  }
 ],
 "metadata": {
  "kernelspec": {
   "display_name": ".venv",
   "language": "python",
   "name": "python3"
  },
  "language_info": {
   "codemirror_mode": {
    "name": "ipython",
    "version": 3
   },
   "file_extension": ".py",
   "mimetype": "text/x-python",
   "name": "python",
   "nbconvert_exporter": "python",
   "pygments_lexer": "ipython3",
   "version": "3.10.11"
  }
 },
 "nbformat": 4,
 "nbformat_minor": 5
}
